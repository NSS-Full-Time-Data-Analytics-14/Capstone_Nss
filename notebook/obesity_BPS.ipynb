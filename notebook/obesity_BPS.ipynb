{
 "cells": [
  {
   "cell_type": "code",
   "execution_count": null,
   "id": "f89135b0-206e-4767-8dbb-76c2f7054189",
   "metadata": {},
   "outputs": [],
   "source": [
    "import pandas as pd\n",
    "import numpy as np\n",
    "import matplotlib.pyplot as plt\n",
    "import seaborn as sns"
   ]
  },
  {
   "cell_type": "code",
   "execution_count": null,
   "id": "784d64ef-ba8c-46e6-b056-a39107f60426",
   "metadata": {},
   "outputs": [],
   "source": [
    "obesity_df = pd.read_csv('../data/ObesityDataSet_raw_and_data_sinthetic.csv')\n",
    "obesity_df "
   ]
  },
  {
   "cell_type": "code",
   "execution_count": null,
   "id": "51fbc11a-566f-4947-89ea-5373e7333889",
   "metadata": {},
   "outputs": [],
   "source": [
    "obesity_df = obesity_df.rename(columns={'FAVC':'High_caloric_food','FCVC':'Number_of_vegetables','NCP':'Main_meals','CAEC':'Food_between_meals','SMOKE':'Smoke',\n",
    "                                          'CH2O':'Water_intake','SCC':'Monitoring_calories','FAF' :'Physical_activity','TUE':'Screen_time','CALC' :'Alchohol',\n",
    "                                        'MTRANS':'Transportation','NObeyesdad':'Obesity_level' })\n",
    "obesity_df"
   ]
  },
  {
   "cell_type": "code",
   "execution_count": null,
   "id": "401eed0d-c52d-4593-a73d-90997c616746",
   "metadata": {},
   "outputs": [],
   "source": [
    "obesity_df.columns"
   ]
  },
  {
   "cell_type": "code",
   "execution_count": null,
   "id": "14a01aa6-9d66-4b78-a15a-9adc3a6c1c85",
   "metadata": {},
   "outputs": [],
   "source": [
    "obesity_df.shape"
   ]
  },
  {
   "cell_type": "markdown",
   "id": "4b7e7d28-74fb-41b5-92d7-5eebe52b4988",
   "metadata": {},
   "source": [
    "FAVC -Do you eat high caloric food frequently\n",
    "FCVC -Do you usually eat vegetables in your meals\n",
    "NCP -How many main meals do you have daily\n",
    "CAEC-Do you eat any food between meals\n",
    "SMOKE-Do you eat any food between meals\n",
    "CH2O - How much water do you drink daily\n",
    "SCC-Do you monitor the calories you eat daily\n",
    "FAF-How often do you have physical activity\n",
    "TUE-How much time do you use technological devices such as cell phone, video games, television, computer and others\n",
    "CALC-How often do you drink alcohol\n",
    "MTRANS-Which transportation do you usually use\n",
    "NObeyesdad-Obesity level"
   ]
  },
  {
   "cell_type": "code",
   "execution_count": null,
   "id": "f018ef62-7312-4cc0-b915-78a1b6a7fe2a",
   "metadata": {},
   "outputs": [],
   "source": [
    "obesity_df.info()"
   ]
  },
  {
   "cell_type": "code",
   "execution_count": null,
   "id": "a62ca77c-2b1c-42c3-9cba-dc96e2bbd0c5",
   "metadata": {},
   "outputs": [],
   "source": [
    "obesity_df.isnull().sum()  ## No missing values"
   ]
  },
  {
   "cell_type": "code",
   "execution_count": null,
   "id": "49c4d02e-dfd0-48a2-82c6-e20d4c56535c",
   "metadata": {},
   "outputs": [],
   "source": [
    "obesity_df.describe()"
   ]
  },
  {
   "cell_type": "markdown",
   "id": "fa2818e3-b7cd-4064-b573-10910ee539eb",
   "metadata": {},
   "source": [
    "plt.figure(figsize=(10,6))\n",
    "sns.histplot(obesity_df['Age'], kde=True)\n",
    "plt.title('Age Distribution');"
   ]
  },
  {
   "cell_type": "code",
   "execution_count": null,
   "id": "96457819-014c-488b-af3d-e97f0158fc96",
   "metadata": {},
   "outputs": [],
   "source": [
    "obesity_df.Age.value_counts().reset_index().sort_values('count',ascending=False)"
   ]
  },
  {
   "cell_type": "code",
   "execution_count": null,
   "id": "c4e8c503-80f9-4085-88ca-0ce63ba6554e",
   "metadata": {},
   "outputs": [],
   "source": [
    "obesity_df.Obesity_level.value_counts().reset_index().sort_values('count',ascending=False).head(20)"
   ]
  },
  {
   "cell_type": "code",
   "execution_count": null,
   "id": "3e0e0618-0880-46b7-9425-a87d2f83d1a8",
   "metadata": {},
   "outputs": [],
   "source": [
    "plt.figure(figsize=(12, 6))\n",
    "sns.countplot(x='Obesity_level', data=obesity_df,color='lightcoral')\n",
    "plt.title('Obesity level distribution');"
   ]
  },
  {
   "cell_type": "code",
   "execution_count": null,
   "id": "ea903241-52ce-4157-a6fe-b68f62bb81e6",
   "metadata": {},
   "outputs": [],
   "source": [
    "plt.figure(figsize=(13, 6))\n",
    "sns.barplot(x='Obesity_level', y='Age', data=obesity_df,color='lightcoral')\n",
    "plt.title('Age vs Obesity Level')"
   ]
  },
  {
   "cell_type": "code",
   "execution_count": null,
   "id": "f6764cbf-327f-45e8-9868-8140cfb6c674",
   "metadata": {},
   "outputs": [],
   "source": [
    "bins = [18, 25, 35, 45, 55, 65, float('inf')]  \n",
    "labels = ['18-25','26-35','36-45','46-55','56-65','66+'] \n",
    "obesity_df['Age Group'] = pd.cut(obesity_df['Age'], bins=bins, labels=labels, right=False)"
   ]
  },
  {
   "cell_type": "code",
   "execution_count": null,
   "id": "853292ab-7045-4c0b-a9a0-d752518ba6ae",
   "metadata": {},
   "outputs": [],
   "source": [
    "plt.figure(figsize=(10, 6))\n",
    "sns.countplot(x='Age Group', hue='Obesity_level', data=obesity_df, palette='Set2')\n",
    "plt.title('Obesity Levels Across Age Groups')\n",
    "plt.xlabel('Age group')\n",
    "plt.ylabel('count')\n",
    "plt.legend(title='Obesity Level', loc='upper right')"
   ]
  },
  {
   "cell_type": "code",
   "execution_count": null,
   "id": "742f7485-3591-4f15-9025-fadc3efeb27d",
   "metadata": {},
   "outputs": [],
   "source": []
  }
 ],
 "metadata": {
  "kernelspec": {
   "display_name": "Python 3 (ipykernel)",
   "language": "python",
   "name": "python3"
  },
  "language_info": {
   "codemirror_mode": {
    "name": "ipython",
    "version": 3
   },
   "file_extension": ".py",
   "mimetype": "text/x-python",
   "name": "python",
   "nbconvert_exporter": "python",
   "pygments_lexer": "ipython3",
   "version": "3.11.7"
  }
 },
 "nbformat": 4,
 "nbformat_minor": 5
}
