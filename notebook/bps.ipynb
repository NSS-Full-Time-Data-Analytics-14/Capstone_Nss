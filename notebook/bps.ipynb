{
 "cells": [
  {
   "cell_type": "code",
   "execution_count": null,
   "id": "88e3d99b-d66a-458e-8222-21d7fdb67d83",
   "metadata": {},
   "outputs": [],
   "source": [
    "import pandas as pd\n",
    "import numpy as np\n",
    "import matplotlib.pyplot as plt\n",
    "import seaborn as sns"
   ]
  },
  {
   "cell_type": "markdown",
   "id": "0a2119d6-6eca-44df-9155-a29d411585ef",
   "metadata": {},
   "source": [
    "##  Obesity and Gdp per capita dataset For All countries"
   ]
  },
  {
   "cell_type": "code",
   "execution_count": null,
   "id": "64dcf2cc-a7c7-4458-ba79-e7fb0d5ad38e",
   "metadata": {},
   "outputs": [],
   "source": [
    "obesity_gdp = pd.read_csv('../data/obesity_gdp.csv')\n",
    "obesity_gdp"
   ]
  },
  {
   "cell_type": "code",
   "execution_count": null,
   "id": "3d719fbb-2825-4aba-8a0b-7016c9cc6d0c",
   "metadata": {},
   "outputs": [],
   "source": [
    "obesity_gdp = obesity_gdp.rename(columns={'Entity' : 'Country'})\n"
   ]
  },
  {
   "cell_type": "code",
   "execution_count": null,
   "id": "14a8457a-8d55-45d5-b23e-832c67cf4047",
   "metadata": {},
   "outputs": [],
   "source": [
    "obesity_gdp"
   ]
  },
  {
   "cell_type": "code",
   "execution_count": null,
   "id": "173c09c3-662a-4e88-b645-e07e54659b6b",
   "metadata": {},
   "outputs": [],
   "source": [
    "obesity_gdp.columns"
   ]
  },
  {
   "cell_type": "markdown",
   "id": "1a347fd6-b0aa-47f5-9d8c-7923f1216305",
   "metadata": {},
   "source": [
    "Obesity is defined as having a body-mass index (BMI) ≥ 30. BMI is a person's weight (in kilograms) divided by their\n",
    "height (in meters) squared. GDP per capita measured in constant international-$ means it is adjusted for price\n",
    "differences between countries and adjusted for inflation to allow comparisons between countries and over time."
   ]
  },
  {
   "cell_type": "code",
   "execution_count": null,
   "id": "66bff645-a6b5-4f38-9ed8-76d5ba5ffd53",
   "metadata": {},
   "outputs": [],
   "source": [
    "obesity_gdp.info()"
   ]
  },
  {
   "cell_type": "code",
   "execution_count": null,
   "id": "d4fa31c6-85a5-45c8-b987-1a00d7a146d1",
   "metadata": {},
   "outputs": [],
   "source": [
    "obesity_gdp.isnull().sum()   ## There are missing values "
   ]
  },
  {
   "cell_type": "code",
   "execution_count": null,
   "id": "a4429fbc-1db0-460f-8c5e-9b85e9762692",
   "metadata": {},
   "outputs": [],
   "source": [
    "obesity_gdp = obesity_gdp.dropna() "
   ]
  },
  {
   "cell_type": "code",
   "execution_count": null,
   "id": "f5db2b22-c1d0-4729-a567-ed5dc7962620",
   "metadata": {},
   "outputs": [],
   "source": [
    "obesity_gdp.isnull().sum()"
   ]
  },
  {
   "cell_type": "code",
   "execution_count": null,
   "id": "288e14dd-8b39-47e1-aaf2-b9c486c82739",
   "metadata": {},
   "outputs": [],
   "source": [
    "obesity_gdp.shape"
   ]
  },
  {
   "cell_type": "code",
   "execution_count": null,
   "id": "695c1895-84d4-4c6b-8b23-f7ca46c73007",
   "metadata": {},
   "outputs": [],
   "source": [
    "fig, ax = plt.subplots(figsize=(12, 10))\n",
    "sns.regplot(\n",
    "    x=obesity_gdp[\"Year\"],\n",
    "    y=obesity_gdp[\"Gdp_ per_capita\"],color=\"purple\",\n",
    "    line_kws={\"color\": \"black\"},\n",
    "    ax=ax\n",
    ")\n",
    "plt.show()"
   ]
  },
  {
   "cell_type": "code",
   "execution_count": null,
   "id": "6f6bbdfb-2070-4ae7-bc9f-9301bd7d5427",
   "metadata": {},
   "outputs": [],
   "source": []
  },
  {
   "cell_type": "code",
   "execution_count": null,
   "id": "541bdc8f-7838-49aa-a5d4-db66637a627b",
   "metadata": {},
   "outputs": [],
   "source": []
  },
  {
   "cell_type": "markdown",
   "id": "3964eeeb-3120-470a-92cd-2fbd741c4560",
   "metadata": {},
   "source": [
    "## Obesity and daily intake of protein dataset for all countries"
   ]
  },
  {
   "cell_type": "code",
   "execution_count": null,
   "id": "384444a5-cebc-4484-a6d3-7aab81eb5fa8",
   "metadata": {},
   "outputs": [],
   "source": [
    "adult_obesity_protein= pd.read_csv('../data/adult_obesity_protein.csv')\n",
    "adult_obesity_protein"
   ]
  },
  {
   "cell_type": "code",
   "execution_count": null,
   "id": "96d2266d-60c8-4fa3-84d6-12ab7c2ad4de",
   "metadata": {},
   "outputs": [],
   "source": [
    "adult_obesity_protein = adult_obesity_protein.rename(columns={'Entity' : 'Country'})\n"
   ]
  },
  {
   "cell_type": "code",
   "execution_count": null,
   "id": "838300ed-93b6-4d0d-80af-27fd840f88f1",
   "metadata": {},
   "outputs": [],
   "source": [
    "adult_obesity_protein = adult_obesity_protein.drop(columns={'World regions according to OWID'})"
   ]
  },
  {
   "cell_type": "code",
   "execution_count": null,
   "id": "d2049d1a-2fec-4bc9-8189-5db7848e7464",
   "metadata": {},
   "outputs": [],
   "source": [
    "adult_obesity_protein.head(5)"
   ]
  },
  {
   "cell_type": "code",
   "execution_count": null,
   "id": "f0df057a-169c-4ebe-98c7-fc35fdaf3d89",
   "metadata": {},
   "outputs": [],
   "source": [
    "adult_obesity_protein.info()"
   ]
  },
  {
   "cell_type": "code",
   "execution_count": null,
   "id": "2b17367e-864a-47cf-98ac-a7878ed8f525",
   "metadata": {},
   "outputs": [],
   "source": [
    "adult_obesity_protein.isnull().sum()"
   ]
  },
  {
   "cell_type": "code",
   "execution_count": null,
   "id": "5a4f4d27-3a43-4e76-95e9-611a79dabf5c",
   "metadata": {},
   "outputs": [],
   "source": [
    "adult_obesity_protein= adult_obesity_protein.dropna()"
   ]
  },
  {
   "cell_type": "code",
   "execution_count": null,
   "id": "c54c7dda-e386-4669-81d1-6477aefac7dc",
   "metadata": {},
   "outputs": [],
   "source": [
    "adult_obesity_protein.shape"
   ]
  },
  {
   "cell_type": "code",
   "execution_count": null,
   "id": "c61ddc78-11b2-4259-8708-bb993f2c6625",
   "metadata": {},
   "outputs": [],
   "source": []
  },
  {
   "cell_type": "code",
   "execution_count": null,
   "id": "a86fb9f6-b7ba-4077-a669-2b8788301bab",
   "metadata": {},
   "outputs": [],
   "source": []
  },
  {
   "cell_type": "markdown",
   "id": "75327ab4-9b24-4883-9ee4-7ed867ba5b0d",
   "metadata": {},
   "source": [
    "## Prevalence of obesity among adults, BMI >= 30 (crude estimate) (%) - Sex: both sexes - Age group: 18+ years with all countries"
   ]
  },
  {
   "cell_type": "code",
   "execution_count": null,
   "id": "d94caa91-387e-47a6-9f49-ed3f5a881c87",
   "metadata": {},
   "outputs": [],
   "source": [
    "Obesity_adult = pd.read_csv('../data/Obesity_adult.csv')\n",
    "Obesity_adult "
   ]
  },
  {
   "cell_type": "code",
   "execution_count": null,
   "id": "9351eb14-ed18-4afe-b784-2b528470a698",
   "metadata": {},
   "outputs": [],
   "source": [
    "Obesity_adult.Year.max()"
   ]
  },
  {
   "cell_type": "code",
   "execution_count": null,
   "id": "6b1307f9-f8a8-40fa-820d-167cab1a8de2",
   "metadata": {},
   "outputs": [],
   "source": [
    "Obesity_adult['Obesity_Prevalence '].value_counts().reset_index().sort_values('Obesity_Prevalence ',ascending=False).head(10)"
   ]
  },
  {
   "cell_type": "code",
   "execution_count": null,
   "id": "554e564a-8010-439c-bb7b-6faec59673f9",
   "metadata": {},
   "outputs": [],
   "source": [
    "Obesity_adult.isnull().sum()"
   ]
  },
  {
   "cell_type": "code",
   "execution_count": null,
   "id": "8148d8cc-54ae-44ac-8ad8-4c67823bada3",
   "metadata": {},
   "outputs": [],
   "source": [
    "Obesity_adult = Obesity_adult.dropna()"
   ]
  },
  {
   "cell_type": "code",
   "execution_count": null,
   "id": "390337cd-b588-4a89-b592-a1cd2a467364",
   "metadata": {},
   "outputs": [],
   "source": [
    "Obesity_adult.shape"
   ]
  },
  {
   "cell_type": "code",
   "execution_count": null,
   "id": "13732ec3-2aae-4b63-81df-586fb9736f4d",
   "metadata": {},
   "outputs": [],
   "source": [
    "Obesity_adult  = Obesity_adult.rename(columns={'Entity' : 'Country'})"
   ]
  },
  {
   "cell_type": "code",
   "execution_count": null,
   "id": "c82d90d1-affd-42d3-b454-1a7c051e270b",
   "metadata": {},
   "outputs": [],
   "source": [
    "Obesity_adult.head(1)"
   ]
  },
  {
   "cell_type": "code",
   "execution_count": null,
   "id": "4d9a756d-3536-412c-b252-6ed4e1ad51dd",
   "metadata": {},
   "outputs": [],
   "source": [
    "Obesity_adult.columns"
   ]
  },
  {
   "cell_type": "code",
   "execution_count": null,
   "id": "5a9e854d-a4b4-425c-8388-aaa182e9baca",
   "metadata": {
    "scrolled": true
   },
   "outputs": [],
   "source": [
    "plt.figure(figsize=(12, 8))\n",
    "sns.lineplot(data=Obesity_adult, x='Year', y='Obesity_Prevalence ', hue='Country', marker='o')\n",
    "plt.title('Obesity Prevalence Over Time by Country')\n",
    "plt.xlabel('Year')\n",
    "plt.ylabel('Obesity Prevalence (%)')\n",
    "plt.legend(title='Country', bbox_to_anchor=(1.05, 1), loc='upper left')"
   ]
  },
  {
   "cell_type": "code",
   "execution_count": null,
   "id": "a8b8c79b-ec52-49af-bfb5-0e72eeae32d1",
   "metadata": {},
   "outputs": [],
   "source": [
    "countries_of_interest = ['Mexico', 'Peru', 'Colombia']\n",
    "Obesity_adult_filtered = Obesity_adult[Obesity_adult['Country'].isin(countries_of_interest)]"
   ]
  },
  {
   "cell_type": "code",
   "execution_count": null,
   "id": "3e2ada6a-6364-4e6d-b253-fbc5915578a0",
   "metadata": {
    "scrolled": true
   },
   "outputs": [],
   "source": [
    "plt.figure(figsize=(12, 8))\n",
    "sns.lineplot(data=Obesity_adult_filtered, x='Year', y='Obesity_Prevalence ', hue='Country', marker='s')\n",
    "plt.title('Obesity Prevalence Over Time (Mexico, Peru, Colombia)')\n",
    "plt.xlabel('Year')\n",
    "plt.ylabel('Obesity Prevalence (%)')\n",
    "plt.legend(title='Country', bbox_to_anchor=(1.05, 1), loc='upper left')"
   ]
  },
  {
   "cell_type": "code",
   "execution_count": null,
   "id": "d904efd1-a5e9-4f5d-a55c-75cd8ceabefe",
   "metadata": {},
   "outputs": [],
   "source": [
    "g = sns.FacetGrid(Obesity_adult, col=\"Country\", col_wrap=4, height=4)\n",
    "g.map(sns.lineplot, 'Year', 'Obesity_Prevalence ')\n",
    "g.set_axis_labels('Year', 'Obesity Prevalence (%)')\n",
    "g.set_titles(\"{col_name}\")\n",
    "plt.tight_layout()\n",
    "plt.show()\n"
   ]
  },
  {
   "cell_type": "code",
   "execution_count": null,
   "id": "dd8a2e50-7522-4a84-ad8a-2a03b4241699",
   "metadata": {
    "scrolled": true
   },
   "outputs": [],
   "source": [
    "Country_df = Obesity_adult[['Country','Obesity_Prevalence ']].value_counts().reset_index()\n",
    "Country_df.sort_values('Obesity_Prevalence ',ascending=False).head(10)"
   ]
  },
  {
   "cell_type": "code",
   "execution_count": null,
   "id": "faf8ed09-0ade-4c33-b9a1-3be7b4497a17",
   "metadata": {},
   "outputs": [],
   "source": [
    "Country_df = Obesity_adult[['Country','Obesity_Prevalence ']].value_counts().reset_index()\n",
    "Country_df.sort_values('Obesity_Prevalence ',ascending=False).tail(10)"
   ]
  },
  {
   "cell_type": "code",
   "execution_count": null,
   "id": "2eaf8489-e9d9-4a45-9d0b-25664724f016",
   "metadata": {},
   "outputs": [],
   "source": [
    "Country_gdp = obesity_gdp[['Country','Gdp_ per_capita']].value_counts().reset_index().sort_values('Gdp_ per_capita',ascending=False).head(10)\n",
    "Country_gdp"
   ]
  },
  {
   "cell_type": "code",
   "execution_count": null,
   "id": "643d573d-3cd3-4fef-b562-52e4dc5d7ef2",
   "metadata": {},
   "outputs": [],
   "source": [
    "obesity_gdp[['Country','Gdp_ per_capita']].value_counts().reset_index().sort_values('Gdp_ per_capita',ascending=False).head(10)"
   ]
  },
  {
   "cell_type": "markdown",
   "id": "13c3b573-3592-435e-9af8-46170f140c6a",
   "metadata": {},
   "source": [
    "## Obesity countries dataset with Population"
   ]
  },
  {
   "cell_type": "code",
   "execution_count": null,
   "id": "9360fc56-d1ba-4285-adc5-d27611bfc1a8",
   "metadata": {},
   "outputs": [],
   "source": [
    "Obesity_daily_calories_pop= pd.read_csv('../data/Obesity_daily_calories.csv')\n",
    "Obesity_daily_calories_pop"
   ]
  },
  {
   "cell_type": "code",
   "execution_count": null,
   "id": "14f92d41-e4fc-43e3-afe9-4107d168ff81",
   "metadata": {},
   "outputs": [],
   "source": [
    "Obesity_daily_calories_pop = Obesity_daily_calories_pop.rename(columns={'Entity':'Country','Population (historical)' : 'Population'})"
   ]
  },
  {
   "cell_type": "code",
   "execution_count": null,
   "id": "93947c55-ff78-4ff3-8b37-874f7198559a",
   "metadata": {},
   "outputs": [],
   "source": [
    "Obesity_daily_calories_pop =Obesity_daily_calories_pop.drop(columns={'Overweight or Obese (NCDRisC (2017))','World regions according to OWID'})"
   ]
  },
  {
   "cell_type": "code",
   "execution_count": null,
   "id": "08742401-e945-494f-8b1e-303ec04f4252",
   "metadata": {},
   "outputs": [],
   "source": [
    "Obesity_daily_calories_pop.info()"
   ]
  },
  {
   "cell_type": "code",
   "execution_count": null,
   "id": "996dc85d-6945-407d-be17-92d1d403fc0a",
   "metadata": {},
   "outputs": [],
   "source": [
    "Obesity_pop = Obesity_daily_calories_pop[['Country','Population']].value_counts().reset_index().sort_values('Population',ascending=False)\n",
    "Obesity_pop"
   ]
  },
  {
   "cell_type": "code",
   "execution_count": null,
   "id": "8ec80b9e-1551-405c-861d-71420168e003",
   "metadata": {},
   "outputs": [],
   "source": []
  },
  {
   "cell_type": "code",
   "execution_count": null,
   "id": "c45e6211-28a3-46c2-ba80-51ad8f4fb877",
   "metadata": {},
   "outputs": [],
   "source": [
    "Countries_population = Obesity_pop.loc[Obesity_pop.Country != 'World']\n",
    "Countries_population"
   ]
  },
  {
   "cell_type": "code",
   "execution_count": null,
   "id": "cdc37a6b-c3ed-4f59-b2d1-db3369ac8562",
   "metadata": {},
   "outputs": [],
   "source": []
  },
  {
   "cell_type": "markdown",
   "id": "33b09b2f-d88f-4dfe-983b-18c568d989f6",
   "metadata": {},
   "source": [
    "## Obesity life_expectancy (Period life expectancy at birth - Sex: total - Age: 0 - life expecrtancy column)"
   ]
  },
  {
   "cell_type": "code",
   "execution_count": null,
   "id": "6cf44e27-4efe-43a9-a27e-299dad5c6cdd",
   "metadata": {},
   "outputs": [],
   "source": [
    "ob_life_expectancy = pd.read_csv('../data/life_expectancy.csv')\n",
    "ob_life_expectancy"
   ]
  },
  {
   "cell_type": "code",
   "execution_count": null,
   "id": "a01b248e-b2f0-462f-8258-0a3e12af92a8",
   "metadata": {},
   "outputs": [],
   "source": [
    "ob_life_expectancy.isnull().sum()"
   ]
  },
  {
   "cell_type": "code",
   "execution_count": null,
   "id": "41140ee4-097c-4be6-a034-16793e0f56a6",
   "metadata": {},
   "outputs": [],
   "source": [
    "ob_life_expectancy = ob_life_expectancy.dropna()"
   ]
  },
  {
   "cell_type": "code",
   "execution_count": null,
   "id": "fcfb1d54-3c9b-4ed4-acf5-e3e1a319b7d6",
   "metadata": {},
   "outputs": [],
   "source": [
    "ob_life_expectancy.shape"
   ]
  },
  {
   "cell_type": "code",
   "execution_count": null,
   "id": "6dc14e46-75e0-48be-bd15-deb042928bff",
   "metadata": {},
   "outputs": [],
   "source": [
    "ob_life_expectancy = ob_life_expectancy.rename(columns={'Entity' : 'Country'})\n",
    "ob_life_expectancy.head(1)"
   ]
  },
  {
   "cell_type": "markdown",
   "id": "7076755b-30c2-46d7-949b-3e9afdbc477c",
   "metadata": {},
   "source": [
    "## Merge aall the datasets with Country and code and year "
   ]
  },
  {
   "cell_type": "code",
   "execution_count": null,
   "id": "ca6178a8-5a35-4f74-8dbe-d9ab4de5506e",
   "metadata": {},
   "outputs": [],
   "source": [
    "obesity_gdp.head(1)"
   ]
  },
  {
   "cell_type": "code",
   "execution_count": null,
   "id": "bfe7485f-c967-4ec2-a8b0-a418b5fc966e",
   "metadata": {},
   "outputs": [],
   "source": [
    "adult_obesity_protein.head(1)"
   ]
  },
  {
   "cell_type": "code",
   "execution_count": null,
   "id": "e7461998-93fd-421e-8994-3134e58bc169",
   "metadata": {},
   "outputs": [],
   "source": [
    "obesity_gdp_protein = pd.merge(obesity_gdp, adult_obesity_protein,\n",
    "                               left_on =['Country','Code','Year'], right_on =['Country','Code','Year'],\n",
    "                               how='inner')\n",
    "obesity_gdp_protein "
   ]
  },
  {
   "cell_type": "code",
   "execution_count": null,
   "id": "2bb68ed0-f2ed-45c6-828e-c9a880d0de1a",
   "metadata": {},
   "outputs": [],
   "source": [
    "obesity_gdp_protein = obesity_gdp_protein.drop(columns={'Obesity_prevalence '})\n",
    "                                                            "
   ]
  },
  {
   "cell_type": "code",
   "execution_count": null,
   "id": "21304049-1551-41b8-b1f0-d6a6ac49ba76",
   "metadata": {},
   "outputs": [],
   "source": [
    "obesity_gdp_protein_lex = pd.merge(obesity_gdp_protein,ob_life_expectancy,\n",
    "                               left_on =['Country','Code','Year'], right_on =['Country','Code','Year'],\n",
    "                               how='inner')\n",
    "obesity_gdp_protein_lex"
   ]
  },
  {
   "cell_type": "code",
   "execution_count": null,
   "id": "78cd0e5c-4368-4d04-b0d8-01c05002aace",
   "metadata": {},
   "outputs": [],
   "source": []
  },
  {
   "cell_type": "code",
   "execution_count": null,
   "id": "358e46c6-1880-4673-85fd-ee36f480f39a",
   "metadata": {},
   "outputs": [],
   "source": [
    "obesity_gdp_protein_lex_pop = pd.merge(obesity_gdp_protein_lex, Obesity_daily_calories_pop,\n",
    "                               left_on =['Country','Code','Year'], right_on =['Country','Code','Year'],\n",
    "                               how='inner')\n",
    "obesity_gdp_protein_lex_pop "
   ]
  },
  {
   "cell_type": "code",
   "execution_count": null,
   "id": "44159c81-d956-4162-83b0-6609356424c3",
   "metadata": {},
   "outputs": [],
   "source": [
    "obesity_gdp_protein_lex_pop.columns"
   ]
  },
  {
   "cell_type": "code",
   "execution_count": null,
   "id": "024cb899-8c7c-487d-aaec-3b527d3a9fcb",
   "metadata": {},
   "outputs": [],
   "source": []
  },
  {
   "cell_type": "markdown",
   "id": "c9cb3a23-938a-4b72-b18f-60cebbea0b37",
   "metadata": {},
   "source": [
    "## Questions "
   ]
  },
  {
   "cell_type": "code",
   "execution_count": null,
   "id": "05dc67a3-8970-4020-99a9-72f7328f3265",
   "metadata": {},
   "outputs": [],
   "source": []
  },
  {
   "cell_type": "markdown",
   "id": "eeb08147-9eb3-4ce9-8934-7845acc2bb96",
   "metadata": {},
   "source": [
    "## which country had the greastest increase and any countries had decrease in Obesity rates ?"
   ]
  },
  {
   "cell_type": "markdown",
   "id": "63396769-7b68-4d65-be22-23f62c8ce9ed",
   "metadata": {},
   "source": [
    "## which country had the greastest increase in Obesity rates ?"
   ]
  },
  {
   "cell_type": "code",
   "execution_count": null,
   "id": "220e906f-f0f0-4819-a536-a1b0968cb25f",
   "metadata": {},
   "outputs": [],
   "source": [
    "Country_high_obesity = obesity_gdp_protein_lex_pop[['Country','Year','Obesity_Prevalence _both']].value_counts().reset_index().sort_values('Obesity_Prevalence _both',ascending=False).head(1).Country.to_list()\n",
    "Country_high_obesity "
   ]
  },
  {
   "cell_type": "code",
   "execution_count": null,
   "id": "3e67b05f-8425-4361-bb9c-c5f0e04babb2",
   "metadata": {},
   "outputs": [],
   "source": [
    "Obese_high_country = obesity_gdp_protein_lex_pop.loc[obesity_gdp_protein_lex_pop.Country.isin(Country_high_obesity)]\n",
    "Obese_high_country.plot(x='Year',y='Obesity_Prevalence _both',color='purple',marker='s');"
   ]
  },
  {
   "cell_type": "code",
   "execution_count": null,
   "id": "94c042e9-dc5f-4ae3-9dcd-e382d555df65",
   "metadata": {},
   "outputs": [],
   "source": [
    "plt.figure(figsize=(10, 6))\n",
    "sns.lineplot(data=Obese_high_country, x='Year', y='Obesity_Prevalence _both', color='purple', marker='s')\n",
    "plt.xlabel('Year')\n",
    "plt.ylabel('Obesity Prevalence')\n",
    "plt.title('Obesity Prevalence Trend Over Years')\n",
    "plt.show()  ## Obesity Prevalence Trend Over Years"
   ]
  },
  {
   "cell_type": "code",
   "execution_count": null,
   "id": "81abe00e-4a24-4cb2-b68b-25194e43b1bd",
   "metadata": {},
   "outputs": [],
   "source": []
  },
  {
   "cell_type": "markdown",
   "id": "32d0bdb5-0b1e-49dc-aa1d-8f236b0a138c",
   "metadata": {},
   "source": [
    "## which country had decrease in Obesity rates ?"
   ]
  },
  {
   "cell_type": "code",
   "execution_count": null,
   "id": "dc357e2b-7cca-4c66-a6bb-3b105c62510b",
   "metadata": {},
   "outputs": [],
   "source": [
    "Country_low_obesity = obesity_gdp_protein_lex_pop[['Country','Year','Obesity_Prevalence _both']].value_counts().reset_index().sort_values('Obesity_Prevalence _both',ascending=False).tail(1).Country.to_list()\n",
    "Country_low_obesity "
   ]
  },
  {
   "cell_type": "code",
   "execution_count": null,
   "id": "7bda129e-b822-4ca7-8eb2-11181bdcf47e",
   "metadata": {},
   "outputs": [],
   "source": [
    "Obese_low_country = obesity_gdp_protein_lex_pop.loc[obesity_gdp_protein_lex_pop.Country.isin(Country_low_obesity)]\n",
    "Obese_low_country.plot(x='Year',y='Obesity_Prevalence _both',color='purple',marker='s');"
   ]
  },
  {
   "cell_type": "code",
   "execution_count": null,
   "id": "fd52979a-6d97-47e9-bc43-beda09c0190c",
   "metadata": {},
   "outputs": [],
   "source": [
    "plt.figure(figsize=(10, 6)) \n",
    "sns.lineplot(data=Obese_low_country, x='Year', y='Obesity_Prevalence _both', color='purple', marker='s')\n",
    "plt.xlabel('Year')\n",
    "plt.ylabel('Obesity Prevalence')\n",
    "plt.title('Obesity Prevalence Trend Over Years')\n",
    "plt.show()  ## Obesity Prevalence Trend Over Years"
   ]
  },
  {
   "cell_type": "code",
   "execution_count": null,
   "id": "4059a762-0ac1-4071-b651-fdb3fb52a18e",
   "metadata": {},
   "outputs": [],
   "source": []
  },
  {
   "cell_type": "code",
   "execution_count": null,
   "id": "9c62423d-daca-44b5-aa23-8cdfcbc01348",
   "metadata": {},
   "outputs": [],
   "source": []
  },
  {
   "cell_type": "code",
   "execution_count": null,
   "id": "2df6415e-aecb-4f91-ac28-6745f5852f0d",
   "metadata": {},
   "outputs": [],
   "source": []
  },
  {
   "cell_type": "markdown",
   "id": "56e54c27-ef31-4421-a029-35bcccefc496",
   "metadata": {},
   "source": [
    "plt.figure(figsize=(12, 8))\n",
    "sns.lineplot(data=Countries_high_obesity , x='Year', y='Obesity_Prevalence _both', hue='Country', marker='s')\n",
    "plt.title('Obesity Prevalence Over Time ')\n",
    "plt.xlabel('Year')\n",
    "plt.ylabel('Obesity Rates (%)')\n",
    "plt.legend(title='Country', bbox_to_anchor=(1.05, 1), loc='upper left')"
   ]
  },
  {
   "cell_type": "code",
   "execution_count": null,
   "id": "1b691522-9b14-4914-b08d-11afe27bf348",
   "metadata": {},
   "outputs": [],
   "source": []
  },
  {
   "cell_type": "markdown",
   "id": "99431c7a-d2f8-41e2-8e1f-7a06e8d7890a",
   "metadata": {},
   "source": [
    "Countries_low_obesity = obesity_gdp_protein_lex_pop[['Country','Year','Obesity_Prevalence _both']].value_counts().reset_index().sort_values('Obesity_Prevalence _both',ascending=False).tail(10)\n",
    "Countries_low_obesity "
   ]
  },
  {
   "cell_type": "markdown",
   "id": "733e15b3-c8c1-4bc7-9e78-d6e34520e666",
   "metadata": {},
   "source": [
    "plt.figure(figsize=(12, 8))\n",
    "sns.lineplot(data=Countries_low_obesity , x='Year', y='Obesity_Prevalence _both', hue='Country', marker='s')\n",
    "plt.title('Obesity Prevalence Over Time ')\n",
    "plt.xlabel('Year')\n",
    "plt.ylabel('Obesity Rates (%)')\n",
    "plt.legend(title='Country', bbox_to_anchor=(1.05, 1), loc='upper left')"
   ]
  },
  {
   "cell_type": "markdown",
   "id": "79d487a2-7dee-4239-89de-2906a3f48002",
   "metadata": {},
   "source": [
    "plt.figure(figsize=(10, 6))\n",
    "sns.lineplot(data=obesity_gdp_protein_lex, x='Year', y='Gdp_ per_capita', color='purple', marker='o', ci=None)\n",
    "plt.xticks(rotation=45)\n",
    "plt.xlabel('Year')\n",
    "plt.ylabel('GDP per Capita')\n",
    "plt.title('GDP per Capita Trend Over Years')\n",
    "plt.show()"
   ]
  },
  {
   "cell_type": "code",
   "execution_count": null,
   "id": "db91c31d-3b2b-47f3-b388-2cce2b98c459",
   "metadata": {},
   "outputs": [],
   "source": [
    "obesity_gdp_protein_lex"
   ]
  },
  {
   "cell_type": "code",
   "execution_count": null,
   "id": "d466bff7-993d-4217-9588-aa56204ce6fa",
   "metadata": {},
   "outputs": [],
   "source": [
    "obesity_gdp_protein_lex_pop.nunique() "
   ]
  },
  {
   "cell_type": "markdown",
   "id": "4aa814fc-91e6-443b-b516-9c3abc8455b9",
   "metadata": {},
   "source": [
    "## 125 Countries have data for all years "
   ]
  },
  {
   "cell_type": "code",
   "execution_count": null,
   "id": "c83afe28-ed2a-457b-9d49-1c430bbd5237",
   "metadata": {},
   "outputs": [],
   "source": [
    "Countries_df = obesity_gdp_protein_lex_pop.Country.value_counts().to_frame()\n",
    "len(Countries_df.loc[Countries_df['count'] == 27])"
   ]
  },
  {
   "cell_type": "code",
   "execution_count": null,
   "id": "b147770b-8b09-4d2c-ae26-b2355ad06728",
   "metadata": {},
   "outputs": [],
   "source": [
    "my_list = [1990,2000,2010]\n",
    "ob_decades =  obesity_gdp_protein_lex_pop.loc[obesity_gdp_protein_lex_pop.Year.isin(my_list)]\n",
    "ob_decades"
   ]
  },
  {
   "cell_type": "markdown",
   "id": "dc39298b-f4a1-4314-8260-4341b887f354",
   "metadata": {},
   "source": [
    " ## Comparing Obesity Prevalence for 1990,2000 and 2010"
   ]
  },
  {
   "cell_type": "code",
   "execution_count": null,
   "id": "248c8411-43ff-43f0-9a56-fbcb5faedaa1",
   "metadata": {},
   "outputs": [],
   "source": [
    "sns.boxplot(data= ob_decades, y = 'Obesity_Prevalence _both', x='Year',color=\"purple\")\n",
    "plt.xlabel('Year')\n",
    "plt.ylabel('Obesity Prevalence'); "
   ]
  },
  {
   "cell_type": "markdown",
   "id": "5238afca-e9f1-4842-8181-8b557485ee50",
   "metadata": {},
   "source": [
    "## Comparing GDP Per capita for 1990,2000 and 2010"
   ]
  },
  {
   "cell_type": "code",
   "execution_count": null,
   "id": "0a784405-8e31-4882-a77d-9dbd1b84a4d0",
   "metadata": {},
   "outputs": [],
   "source": [
    "sns.boxplot(data= ob_decades, y = 'Gdp_ per_capita', x='Year',color=\"purple\")\n",
    "plt.xlabel('Year')\n",
    "plt.ylabel('GDP Per Capita'); "
   ]
  },
  {
   "cell_type": "markdown",
   "id": "f51a8fed-3374-4584-9fdf-e47983f93933",
   "metadata": {},
   "source": [
    "## Comparing Life Expectancy for 1990,2000 and 2010"
   ]
  },
  {
   "cell_type": "code",
   "execution_count": null,
   "id": "9af1b281-88c1-40f4-b7eb-c6d015999cd1",
   "metadata": {},
   "outputs": [],
   "source": [
    "sns.boxplot(data= ob_decades, y = 'Life_expectancy ', x='Year',color=\"purple\")\n",
    "plt.xlabel('Year')\n",
    "plt.ylabel('Life Expectancy '); "
   ]
  },
  {
   "cell_type": "markdown",
   "id": "307b7e25-3105-4612-b5e9-0292b59e8e16",
   "metadata": {},
   "source": [
    "## Comparing Daily protein supply per person for 1990,2000,2010"
   ]
  },
  {
   "cell_type": "code",
   "execution_count": null,
   "id": "e3aa886c-dbdd-4e9e-be1d-19186be4dbc5",
   "metadata": {},
   "outputs": [],
   "source": [
    "sns.boxplot(data= ob_decades, y = 'Daily protein supply per person', x='Year',color=\"purple\")\n",
    "plt.xlabel('Year')\n",
    "plt.ylabel('Daily protein supply per person'); "
   ]
  },
  {
   "cell_type": "code",
   "execution_count": null,
   "id": "2038f992-4026-4668-9db7-0ed1a418aeb7",
   "metadata": {},
   "outputs": [],
   "source": []
  },
  {
   "cell_type": "markdown",
   "id": "68eb3547-10e2-4bd6-9e6e-58aa22eabd2c",
   "metadata": {},
   "source": [
    "## Comparing Population For 1990,2000,2010 Years"
   ]
  },
  {
   "cell_type": "code",
   "execution_count": null,
   "id": "19a26334-4d89-49dd-a1cb-b878a307653c",
   "metadata": {},
   "outputs": [],
   "source": [
    "sns.barplot(data=ob_decades, y=\"Population\", x=\"Year\",ci=None,color=\"purple\")\n",
    "plt.ticklabel_format(style='plain', axis='y'); "
   ]
  },
  {
   "cell_type": "markdown",
   "id": "70339617-6ce8-47bd-bf8c-09b55cd4ab87",
   "metadata": {},
   "source": [
    "from matplotlib.ticker import FuncFormatter\n",
    "sns.boxplot(data=ob_decades, y='Population', x='Year', color=\"purple\")\n",
    "plt.ticklabel_format(style='plain', axis='y')"
   ]
  },
  {
   "cell_type": "code",
   "execution_count": null,
   "id": "91d47a30-0028-40a3-bd4f-50a66286fbc7",
   "metadata": {},
   "outputs": [],
   "source": []
  },
  {
   "cell_type": "code",
   "execution_count": null,
   "id": "3f9d2370-5078-4066-a747-47ba3ef2b295",
   "metadata": {},
   "outputs": [],
   "source": []
  },
  {
   "cell_type": "markdown",
   "id": "0532749b-aefd-4ec7-8d36-f6d5a920760c",
   "metadata": {},
   "source": [
    "  ## GDP per capita changed over time 1990-2015 "
   ]
  },
  {
   "cell_type": "markdown",
   "id": "d281ce43-bac4-4b0e-a02f-ee9beb8025ac",
   "metadata": {},
   "source": [
    "plt.figure(figsize=(10, 6))\n",
    "sns.lineplot(data=obesity_gdp_protein_lex_pop , x='Year', y='Gdp_ per_capita', color='purple', marker='o', ci=None)\n",
    "plt.xticks(rotation=45)\n",
    "plt.xlabel('Year')\n",
    "plt.ylabel('GDP per Capita')\n",
    "plt.title('GDP per Capita Trend Over Years')\n",
    "plt.show()"
   ]
  },
  {
   "cell_type": "markdown",
   "id": "d70bf398-da9b-4db1-aaee-efe61bbc99e7",
   "metadata": {},
   "source": [
    "plt.figure(figsize=(10, 6))\n",
    "sns.lineplot(data=obesity_gdp_protein_lex, x='Year', y='Obesity_Prevalence _both', color='purple', marker='o', ci=None)\n",
    "plt.xticks(rotation=45)\n",
    "plt.xlabel('Year')\n",
    "plt.ylabel('Obesity Prevalence')\n",
    "plt.title('Obesity Prevalence Trend Over Years')\n",
    "plt.show()"
   ]
  },
  {
   "cell_type": "markdown",
   "id": "3ce07e6c-b06d-4385-8a34-06e2f87d7820",
   "metadata": {},
   "source": [
    "import plotly.express as px\n",
    "obs= px.line(ob_decades, x='Year', y='Population', \n",
    "              title='Population Trend Over Years', \n",
    "              labels={'Population': 'Population', 'Year': 'Year'})\n",
    "obs.show()"
   ]
  },
  {
   "cell_type": "code",
   "execution_count": null,
   "id": "418b3fda-4c96-4a60-97b1-2485b19ace90",
   "metadata": {},
   "outputs": [],
   "source": []
  },
  {
   "cell_type": "code",
   "execution_count": null,
   "id": "af46a963-19b0-49a0-a3ca-d09127a0467a",
   "metadata": {},
   "outputs": [],
   "source": [
    "obesity_gdp_protein_lex_pop.columns"
   ]
  },
  {
   "cell_type": "markdown",
   "id": "6757370d-0b7a-4344-9216-3c9e2d516a9c",
   "metadata": {},
   "source": [
    "plt.figure(figsize=(12,11))\n",
    "sns.boxplot(data= obesity_gdp_protein_lex, y=\"Gdp_ per_capita\", x=\"Year\",color=\"purple\")\n",
    "plt.xticks(rotation=45);  "
   ]
  },
  {
   "cell_type": "code",
   "execution_count": null,
   "id": "f8f12d02-03d9-4755-b597-772fc85b20b1",
   "metadata": {},
   "outputs": [],
   "source": []
  },
  {
   "cell_type": "code",
   "execution_count": null,
   "id": "4487ef2b-3b9d-4b48-bd04-fec520df4e67",
   "metadata": {},
   "outputs": [],
   "source": []
  },
  {
   "cell_type": "markdown",
   "id": "5015f431-4877-4c6b-90c0-384f767ec289",
   "metadata": {},
   "source": [
    "## How does GDP Per Capita relate to Obesity Prevalence across Countries"
   ]
  },
  {
   "cell_type": "code",
   "execution_count": null,
   "id": "39f9d1c1-1e91-460f-ab4a-827902102133",
   "metadata": {},
   "outputs": [],
   "source": [
    "obesity_gdp_protein_lex_pop['Gdp_ per_capita'].describe()"
   ]
  },
  {
   "cell_type": "code",
   "execution_count": null,
   "id": "a24c15ca-0ee1-45c1-87bb-62cd69d1c01b",
   "metadata": {},
   "outputs": [],
   "source": []
  },
  {
   "cell_type": "markdown",
   "id": "feeceeae-0e87-470d-8446-6e624837a149",
   "metadata": {},
   "source": [
    "plt.figure(figsize=(10, 6))\n",
    "sns.scatterplot(data=obesity_gdp_protein_lex_pop, x='Gdp_ per_capita', y='Obesity_Prevalence _both',color='purple')\n",
    "plt.title('GDP per Capita vs Obesity Prevalence')\n",
    "plt.xlabel('GDP per Capita')\n",
    "plt.ylabel('Obesity Prevalence (%)')"
   ]
  },
  {
   "cell_type": "markdown",
   "id": "082d23f1-e536-4334-a589-8dfaa14d991e",
   "metadata": {},
   "source": [
    "fig, ax = plt.subplots(figsize=(10, 6))\n",
    "sns.regplot(\n",
    "    x= obesity_gdp_protein_lex_pop[\"Gdp_ per_capita\"],\n",
    "    y= obesity_gdp_protein_lex_pop[\"Obesity_Prevalence _both\"],color=\"purple\",\n",
    "    line_kws={\"color\": \"black\"},\n",
    "    ax=ax\n",
    ")\n",
    "plt.show()"
   ]
  },
  {
   "cell_type": "code",
   "execution_count": null,
   "id": "073f85b0-2aa6-4a60-8a22-e28deb942c51",
   "metadata": {},
   "outputs": [],
   "source": [
    "correlation = obesity_gdp_protein_lex_pop['Gdp_ per_capita'].corr(obesity_gdp_protein_lex_pop['Obesity_Prevalence _both'])\n",
    "correlation"
   ]
  },
  {
   "cell_type": "markdown",
   "id": "cea4faeb-db2f-4d37-886d-f1e87835e340",
   "metadata": {},
   "source": []
  },
  {
   "cell_type": "code",
   "execution_count": null,
   "id": "6bc8a43d-d78e-4e58-b99b-c5b36c05e521",
   "metadata": {},
   "outputs": [],
   "source": []
  },
  {
   "cell_type": "markdown",
   "id": "b6ccd24c-ea3f-4464-a206-59e707abe111",
   "metadata": {},
   "source": [
    "## Is there a relationship between daily protein supply and obesity prevalence in different countries?"
   ]
  },
  {
   "cell_type": "code",
   "execution_count": null,
   "id": "b210f488-7425-4fa5-9117-d1decc6a90ab",
   "metadata": {},
   "outputs": [],
   "source": []
  },
  {
   "cell_type": "markdown",
   "id": "5cd1393c-e9b3-405f-89b9-de69c1e13843",
   "metadata": {},
   "source": [
    "Corelation is not extremely stong(moderate),other variables in the dataset such as Daily protein intake, Daily calories,and life_expectancy"
   ]
  },
  {
   "cell_type": "code",
   "execution_count": null,
   "id": "d4c34162-94ae-4a01-8336-f096778feeb2",
   "metadata": {},
   "outputs": [],
   "source": []
  }
 ],
 "metadata": {
  "kernelspec": {
   "display_name": "Python 3 (ipykernel)",
   "language": "python",
   "name": "python3"
  },
  "language_info": {
   "codemirror_mode": {
    "name": "ipython",
    "version": 3
   },
   "file_extension": ".py",
   "mimetype": "text/x-python",
   "name": "python",
   "nbconvert_exporter": "python",
   "pygments_lexer": "ipython3",
   "version": "3.11.7"
  }
 },
 "nbformat": 4,
 "nbformat_minor": 5
}
