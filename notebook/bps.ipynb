{
 "cells": [
  {
   "cell_type": "code",
   "execution_count": null,
   "id": "88e3d99b-d66a-458e-8222-21d7fdb67d83",
   "metadata": {},
   "outputs": [],
   "source": [
    "import pandas as pd\n",
    "import numpy as np\n",
    "import matplotlib.pyplot as plt\n",
    "import seaborn as sns"
   ]
  },
  {
   "cell_type": "markdown",
   "id": "0a2119d6-6eca-44df-9155-a29d411585ef",
   "metadata": {},
   "source": [
    "##  Obesity and Gdp per capita dataset For All countries"
   ]
  },
  {
   "cell_type": "code",
   "execution_count": null,
   "id": "64dcf2cc-a7c7-4458-ba79-e7fb0d5ad38e",
   "metadata": {},
   "outputs": [],
   "source": [
    "obesity_gdp = pd.read_csv('../data/obesity_gdp.csv')\n",
    "obesity_gdp"
   ]
  },
  {
   "cell_type": "code",
   "execution_count": null,
   "id": "3d719fbb-2825-4aba-8a0b-7016c9cc6d0c",
   "metadata": {},
   "outputs": [],
   "source": [
    "obesity_gdp = obesity_gdp.rename(columns={'Entity' : 'Country'})\n"
   ]
  },
  {
   "cell_type": "code",
   "execution_count": null,
   "id": "14a8457a-8d55-45d5-b23e-832c67cf4047",
   "metadata": {},
   "outputs": [],
   "source": [
    "obesity_gdp"
   ]
  },
  {
   "cell_type": "code",
   "execution_count": null,
   "id": "173c09c3-662a-4e88-b645-e07e54659b6b",
   "metadata": {},
   "outputs": [],
   "source": [
    "obesity_gdp.columns"
   ]
  },
  {
   "cell_type": "markdown",
   "id": "1a347fd6-b0aa-47f5-9d8c-7923f1216305",
   "metadata": {},
   "source": [
    "Obesity is defined as having a body-mass index (BMI) ≥ 30. BMI is a person's weight (in kilograms) divided by their\n",
    "height (in meters) squared. GDP per capita measured in constant international-$ means it is adjusted for price\n",
    "differences between countries and adjusted for inflation to allow comparisons between countries and over time."
   ]
  },
  {
   "cell_type": "code",
   "execution_count": null,
   "id": "66bff645-a6b5-4f38-9ed8-76d5ba5ffd53",
   "metadata": {},
   "outputs": [],
   "source": [
    "obesity_gdp.info()"
   ]
  },
  {
   "cell_type": "code",
   "execution_count": null,
   "id": "d4fa31c6-85a5-45c8-b987-1a00d7a146d1",
   "metadata": {},
   "outputs": [],
   "source": [
    "obesity_gdp.isnull().sum()   ## There are missing values "
   ]
  },
  {
   "cell_type": "code",
   "execution_count": null,
   "id": "a4429fbc-1db0-460f-8c5e-9b85e9762692",
   "metadata": {},
   "outputs": [],
   "source": [
    "obesity_gdp = obesity_gdp.dropna() "
   ]
  },
  {
   "cell_type": "code",
   "execution_count": null,
   "id": "f5db2b22-c1d0-4729-a567-ed5dc7962620",
   "metadata": {},
   "outputs": [],
   "source": [
    "obesity_gdp.isnull().sum()"
   ]
  },
  {
   "cell_type": "code",
   "execution_count": null,
   "id": "288e14dd-8b39-47e1-aaf2-b9c486c82739",
   "metadata": {},
   "outputs": [],
   "source": [
    "obesity_gdp.shape"
   ]
  },
  {
   "cell_type": "code",
   "execution_count": null,
   "id": "541bdc8f-7838-49aa-a5d4-db66637a627b",
   "metadata": {},
   "outputs": [],
   "source": []
  },
  {
   "cell_type": "markdown",
   "id": "3964eeeb-3120-470a-92cd-2fbd741c4560",
   "metadata": {},
   "source": [
    "## Obesity and daily intake of protein dataset for all countries"
   ]
  },
  {
   "cell_type": "code",
   "execution_count": null,
   "id": "384444a5-cebc-4484-a6d3-7aab81eb5fa8",
   "metadata": {},
   "outputs": [],
   "source": [
    "adult_obesity_protein= pd.read_csv('../data/adult_obesity_protein.csv')\n",
    "adult_obesity_protein"
   ]
  },
  {
   "cell_type": "code",
   "execution_count": null,
   "id": "96d2266d-60c8-4fa3-84d6-12ab7c2ad4de",
   "metadata": {},
   "outputs": [],
   "source": [
    "adult_obesity_protein = adult_obesity_protein.rename(columns={'Entity' : 'Country'})\n"
   ]
  },
  {
   "cell_type": "code",
   "execution_count": null,
   "id": "838300ed-93b6-4d0d-80af-27fd840f88f1",
   "metadata": {},
   "outputs": [],
   "source": [
    "adult_obesity_protein = adult_obesity_protein.drop(columns={'World regions according to OWID'})"
   ]
  },
  {
   "cell_type": "code",
   "execution_count": null,
   "id": "d2049d1a-2fec-4bc9-8189-5db7848e7464",
   "metadata": {},
   "outputs": [],
   "source": [
    "adult_obesity_protein.head(5)"
   ]
  },
  {
   "cell_type": "code",
   "execution_count": null,
   "id": "f0df057a-169c-4ebe-98c7-fc35fdaf3d89",
   "metadata": {},
   "outputs": [],
   "source": [
    "adult_obesity_protein.info()"
   ]
  },
  {
   "cell_type": "code",
   "execution_count": null,
   "id": "2b17367e-864a-47cf-98ac-a7878ed8f525",
   "metadata": {},
   "outputs": [],
   "source": [
    "adult_obesity_protein.isnull().sum()"
   ]
  },
  {
   "cell_type": "code",
   "execution_count": null,
   "id": "5a4f4d27-3a43-4e76-95e9-611a79dabf5c",
   "metadata": {},
   "outputs": [],
   "source": [
    "adult_obesity_protein= adult_obesity_protein.dropna()"
   ]
  },
  {
   "cell_type": "code",
   "execution_count": null,
   "id": "c54c7dda-e386-4669-81d1-6477aefac7dc",
   "metadata": {},
   "outputs": [],
   "source": [
    "adult_obesity_protein.shape"
   ]
  },
  {
   "cell_type": "code",
   "execution_count": null,
   "id": "a86fb9f6-b7ba-4077-a669-2b8788301bab",
   "metadata": {},
   "outputs": [],
   "source": []
  },
  {
   "cell_type": "code",
   "execution_count": null,
   "id": "d94caa91-387e-47a6-9f49-ed3f5a881c87",
   "metadata": {},
   "outputs": [],
   "source": [
    "Obesity_adult = pd.read_csv('../data/Obesity_adult.csv')\n",
    "Obesity_adult "
   ]
  },
  {
   "cell_type": "code",
   "execution_count": null,
   "id": "9351eb14-ed18-4afe-b784-2b528470a698",
   "metadata": {},
   "outputs": [],
   "source": [
    "Obesity_adult.Year.max()"
   ]
  },
  {
   "cell_type": "code",
   "execution_count": null,
   "id": "6b1307f9-f8a8-40fa-820d-167cab1a8de2",
   "metadata": {},
   "outputs": [],
   "source": [
    "Obesity_adult['Obesity_Prevalence '].value_counts().reset_index().sort_values('Obesity_Prevalence ',ascending=False).head(10)"
   ]
  },
  {
   "cell_type": "code",
   "execution_count": null,
   "id": "554e564a-8010-439c-bb7b-6faec59673f9",
   "metadata": {},
   "outputs": [],
   "source": [
    "Obesity_adult.isnull().sum()"
   ]
  },
  {
   "cell_type": "code",
   "execution_count": null,
   "id": "8148d8cc-54ae-44ac-8ad8-4c67823bada3",
   "metadata": {},
   "outputs": [],
   "source": [
    "Obesity_adult = Obesity_adult.dropna()"
   ]
  },
  {
   "cell_type": "code",
   "execution_count": null,
   "id": "390337cd-b588-4a89-b592-a1cd2a467364",
   "metadata": {},
   "outputs": [],
   "source": [
    "Obesity_adult.shape"
   ]
  },
  {
   "cell_type": "code",
   "execution_count": null,
   "id": "13732ec3-2aae-4b63-81df-586fb9736f4d",
   "metadata": {},
   "outputs": [],
   "source": [
    "Obesity_adult  = Obesity_adult.rename(columns={'Entity' : 'Country'})"
   ]
  },
  {
   "cell_type": "code",
   "execution_count": null,
   "id": "c82d90d1-affd-42d3-b454-1a7c051e270b",
   "metadata": {},
   "outputs": [],
   "source": [
    "Obesity_adult.head(1)"
   ]
  },
  {
   "cell_type": "code",
   "execution_count": null,
   "id": "4d9a756d-3536-412c-b252-6ed4e1ad51dd",
   "metadata": {},
   "outputs": [],
   "source": [
    "Obesity_adult.columns"
   ]
  },
  {
   "cell_type": "code",
   "execution_count": null,
   "id": "5a9e854d-a4b4-425c-8388-aaa182e9baca",
   "metadata": {
    "scrolled": true
   },
   "outputs": [],
   "source": [
    "plt.figure(figsize=(12, 8))\n",
    "sns.lineplot(data=Obesity_adult, x='Year', y='Obesity_Prevalence ', hue='Country', marker='o')\n",
    "plt.title('Obesity Prevalence Over Time by Country')\n",
    "plt.xlabel('Year')\n",
    "plt.ylabel('Obesity Prevalence (%)')\n",
    "plt.legend(title='Country', bbox_to_anchor=(1.05, 1), loc='upper left')"
   ]
  },
  {
   "cell_type": "code",
   "execution_count": null,
   "id": "a8b8c79b-ec52-49af-bfb5-0e72eeae32d1",
   "metadata": {},
   "outputs": [],
   "source": [
    "countries_of_interest = ['Mexico', 'Peru', 'Colombia']\n",
    "Obesity_adult_filtered = Obesity_adult[Obesity_adult['Country'].isin(countries_of_interest)]"
   ]
  },
  {
   "cell_type": "markdown",
   "id": "a099aa98-2257-44b8-88d9-3329363e598b",
   "metadata": {
    "scrolled": true
   },
   "source": [
    "plt.figure(figsize=(12, 8))\n",
    "sns.lineplot(data=Obesity_adult_filtered, x='Year', y='Obesity_Prevalence ', hue='Country', marker='s')\n",
    "plt.title('Obesity Prevalence Over Time (Mexico, Peru, Colombia)')\n",
    "plt.xlabel('Year')\n",
    "plt.ylabel('Obesity Prevalence (%)')\n",
    "plt.legend(title='Country', bbox_to_anchor=(1.05, 1), loc='upper left')"
   ]
  },
  {
   "cell_type": "code",
   "execution_count": null,
   "id": "d904efd1-a5e9-4f5d-a55c-75cd8ceabefe",
   "metadata": {},
   "outputs": [],
   "source": [
    "g = sns.FacetGrid(Obesity_adult, col=\"Country\", col_wrap=4, height=4)\n",
    "g.map(sns.lineplot, 'Year', 'Obesity_Prevalence ')\n",
    "g.set_axis_labels('Year', 'Obesity Prevalence (%)')\n",
    "g.set_titles(\"{col_name}\")\n",
    "plt.tight_layout()\n",
    "plt.show()\n"
   ]
  },
  {
   "cell_type": "code",
   "execution_count": null,
   "id": "dd8a2e50-7522-4a84-ad8a-2a03b4241699",
   "metadata": {
    "scrolled": true
   },
   "outputs": [],
   "source": [
    "Country_df = Obesity_adult[['Country','Obesity_Prevalence ']].value_counts().reset_index()\n",
    "Country_df.sort_values('Obesity_Prevalence ',ascending=False).head(10)"
   ]
  },
  {
   "cell_type": "code",
   "execution_count": null,
   "id": "faf8ed09-0ade-4c33-b9a1-3be7b4497a17",
   "metadata": {},
   "outputs": [],
   "source": [
    "Country_df = Obesity_adult[['Country','Obesity_Prevalence ']].value_counts().reset_index()\n",
    "Country_df.sort_values('Obesity_Prevalence ',ascending=False).tail(10)"
   ]
  },
  {
   "cell_type": "code",
   "execution_count": null,
   "id": "2eaf8489-e9d9-4a45-9d0b-25664724f016",
   "metadata": {},
   "outputs": [],
   "source": [
    "Country_gdp = obesity_gdp[['Country','Gdp_ per_capita']].value_counts().reset_index().sort_values('Gdp_ per_capita',ascending=False).head(10)\n",
    "Country_gdp"
   ]
  },
  {
   "cell_type": "code",
   "execution_count": null,
   "id": "643d573d-3cd3-4fef-b562-52e4dc5d7ef2",
   "metadata": {},
   "outputs": [],
   "source": [
    "obesity_gdp[['Country','Gdp_ per_capita']].value_counts().reset_index().sort_values('Gdp_ per_capita',ascending=False).head(10)"
   ]
  },
  {
   "cell_type": "markdown",
   "id": "13c3b573-3592-435e-9af8-46170f140c6a",
   "metadata": {},
   "source": [
    "## Obesity countries dataset with Population"
   ]
  },
  {
   "cell_type": "code",
   "execution_count": null,
   "id": "9360fc56-d1ba-4285-adc5-d27611bfc1a8",
   "metadata": {},
   "outputs": [],
   "source": [
    "Obesity_daily_calories_pop= pd.read_csv('../data/Obesity_daily_calories.csv')\n",
    "Obesity_daily_calories_pop"
   ]
  },
  {
   "cell_type": "code",
   "execution_count": null,
   "id": "14f92d41-e4fc-43e3-afe9-4107d168ff81",
   "metadata": {},
   "outputs": [],
   "source": [
    "Obesity_daily_calories_pop = Obesity_daily_calories_pop.rename(columns={'Entity':'Country','Population (historical)' : 'Population'})"
   ]
  },
  {
   "cell_type": "code",
   "execution_count": null,
   "id": "93947c55-ff78-4ff3-8b37-874f7198559a",
   "metadata": {},
   "outputs": [],
   "source": [
    "Obesity_daily_calories_pop =Obesity_daily_calories_pop.drop(columns={'Overweight or Obese (NCDRisC (2017))','World regions according to OWID'})"
   ]
  },
  {
   "cell_type": "code",
   "execution_count": null,
   "id": "08742401-e945-494f-8b1e-303ec04f4252",
   "metadata": {},
   "outputs": [],
   "source": [
    "Obesity_daily_calories_pop.info()"
   ]
  },
  {
   "cell_type": "code",
   "execution_count": null,
   "id": "996dc85d-6945-407d-be17-92d1d403fc0a",
   "metadata": {},
   "outputs": [],
   "source": [
    "Obesity_pop = Obesity_daily_calories_pop[['Country','Population']].value_counts().reset_index().sort_values('Population',ascending=False)\n",
    "Obesity_pop"
   ]
  },
  {
   "cell_type": "code",
   "execution_count": null,
   "id": "8ec80b9e-1551-405c-861d-71420168e003",
   "metadata": {},
   "outputs": [],
   "source": []
  },
  {
   "cell_type": "code",
   "execution_count": null,
   "id": "c45e6211-28a3-46c2-ba80-51ad8f4fb877",
   "metadata": {},
   "outputs": [],
   "source": [
    "Countries_population = Obesity_pop.loc[Obesity_pop.Country != 'World']\n",
    "Countries_population"
   ]
  },
  {
   "cell_type": "markdown",
   "id": "e43e34ce-190a-4144-abe1-de279a78a562",
   "metadata": {},
   "source": [
    "## Life expectancyFor all countries"
   ]
  },
  {
   "cell_type": "code",
   "execution_count": null,
   "id": "6cf44e27-4efe-43a9-a27e-299dad5c6cdd",
   "metadata": {},
   "outputs": [],
   "source": [
    "ob_life_expectancy = pd.read_csv('../data/life_expectancy.csv')\n",
    "ob_life_expectancy"
   ]
  },
  {
   "cell_type": "code",
   "execution_count": null,
   "id": "a01b248e-b2f0-462f-8258-0a3e12af92a8",
   "metadata": {},
   "outputs": [],
   "source": [
    "ob_life_expectancy.isnull().sum()"
   ]
  },
  {
   "cell_type": "code",
   "execution_count": null,
   "id": "41140ee4-097c-4be6-a034-16793e0f56a6",
   "metadata": {},
   "outputs": [],
   "source": [
    "ob_life_expectancy = ob_life_expectancy.dropna()"
   ]
  },
  {
   "cell_type": "code",
   "execution_count": null,
   "id": "fcfb1d54-3c9b-4ed4-acf5-e3e1a319b7d6",
   "metadata": {},
   "outputs": [],
   "source": [
    "ob_life_expectancy.shape"
   ]
  },
  {
   "cell_type": "code",
   "execution_count": null,
   "id": "6dc14e46-75e0-48be-bd15-deb042928bff",
   "metadata": {},
   "outputs": [],
   "source": [
    "ob_life_expectancy = ob_life_expectancy.rename(columns={'Entity' : 'Country'})\n",
    "ob_life_expectancy.head(1)"
   ]
  },
  {
   "cell_type": "markdown",
   "id": "7076755b-30c2-46d7-949b-3e9afdbc477c",
   "metadata": {},
   "source": [
    "## Merge aall the datasets with Country and code and year "
   ]
  },
  {
   "cell_type": "code",
   "execution_count": null,
   "id": "ca6178a8-5a35-4f74-8dbe-d9ab4de5506e",
   "metadata": {},
   "outputs": [],
   "source": [
    "obesity_gdp.head(1)"
   ]
  },
  {
   "cell_type": "code",
   "execution_count": null,
   "id": "bfe7485f-c967-4ec2-a8b0-a418b5fc966e",
   "metadata": {},
   "outputs": [],
   "source": [
    "adult_obesity_protein.head(1)"
   ]
  },
  {
   "cell_type": "code",
   "execution_count": null,
   "id": "e7461998-93fd-421e-8994-3134e58bc169",
   "metadata": {},
   "outputs": [],
   "source": [
    "obesity_gdp_protein = pd.merge(obesity_gdp, adult_obesity_protein,\n",
    "                               left_on =['Country','Code','Year'], right_on =['Country','Code','Year'],\n",
    "                               how='inner')\n",
    "obesity_gdp_protein "
   ]
  },
  {
   "cell_type": "code",
   "execution_count": null,
   "id": "2bb68ed0-f2ed-45c6-828e-c9a880d0de1a",
   "metadata": {},
   "outputs": [],
   "source": [
    "obesity_gdp_protein = obesity_gdp_protein.drop(columns={'Obesity_prevalence '})\n",
    "                                                            "
   ]
  },
  {
   "cell_type": "code",
   "execution_count": null,
   "id": "21304049-1551-41b8-b1f0-d6a6ac49ba76",
   "metadata": {},
   "outputs": [],
   "source": [
    "obesity_gdp_protein_lex = pd.merge(obesity_gdp_protein,ob_life_expectancy,\n",
    "                               left_on =['Country','Code','Year'], right_on =['Country','Code','Year'],\n",
    "                               how='inner')\n",
    "obesity_gdp_protein_lex"
   ]
  },
  {
   "cell_type": "code",
   "execution_count": null,
   "id": "78cd0e5c-4368-4d04-b0d8-01c05002aace",
   "metadata": {},
   "outputs": [],
   "source": []
  },
  {
   "cell_type": "code",
   "execution_count": null,
   "id": "358e46c6-1880-4673-85fd-ee36f480f39a",
   "metadata": {},
   "outputs": [],
   "source": [
    "obesity_gdp_protein_lex_pop = pd.merge(obesity_gdp_protein_lex, Obesity_daily_calories_pop,\n",
    "                               left_on =['Country','Code','Year'], right_on =['Country','Code','Year'],\n",
    "                               how='inner')\n",
    "obesity_gdp_protein_lex_pop "
   ]
  },
  {
   "cell_type": "code",
   "execution_count": null,
   "id": "44159c81-d956-4162-83b0-6609356424c3",
   "metadata": {},
   "outputs": [],
   "source": [
    "obesity_gdp_protein_lex_pop.columns"
   ]
  },
  {
   "cell_type": "code",
   "execution_count": null,
   "id": "024cb899-8c7c-487d-aaec-3b527d3a9fcb",
   "metadata": {},
   "outputs": [],
   "source": []
  },
  {
   "cell_type": "markdown",
   "id": "c9cb3a23-938a-4b72-b18f-60cebbea0b37",
   "metadata": {},
   "source": [
    "## Questions "
   ]
  },
  {
   "cell_type": "code",
   "execution_count": null,
   "id": "05dc67a3-8970-4020-99a9-72f7328f3265",
   "metadata": {},
   "outputs": [],
   "source": [
    "obesity_gdp_protein_lex_pop[['Country','Year','Obesity_Prevalence _both']].value_counts().reset_index().sort_values('Obesity_Prevalence _both',ascending=False).head(1)"
   ]
  },
  {
   "cell_type": "markdown",
   "id": "eeb08147-9eb3-4ce9-8934-7845acc2bb96",
   "metadata": {},
   "source": [
    "## which country had the greastest increase and any countries had decrease in Obesity rates ?"
   ]
  },
  {
   "cell_type": "markdown",
   "id": "63396769-7b68-4d65-be22-23f62c8ce9ed",
   "metadata": {},
   "source": [
    "## which country had the greastest increase in Obesity rates ?"
   ]
  },
  {
   "cell_type": "code",
   "execution_count": null,
   "id": "220e906f-f0f0-4819-a536-a1b0968cb25f",
   "metadata": {},
   "outputs": [],
   "source": [
    "Country_high_obesity = obesity_gdp_protein_lex_pop[['Country','Year','Obesity_Prevalence _both']].value_counts().reset_index().sort_values('Obesity_Prevalence _both',ascending=False).head(1).Country.to_list()\n",
    "Country_high_obesity "
   ]
  },
  {
   "cell_type": "code",
   "execution_count": null,
   "id": "3e67b05f-8425-4361-bb9c-c5f0e04babb2",
   "metadata": {},
   "outputs": [],
   "source": [
    "Obese_high_country = obesity_gdp_protein_lex_pop.loc[obesity_gdp_protein_lex_pop.Country.isin(Country_high_obesity)]\n",
    "Obese_high_country.plot(x='Year',y='Obesity_Prevalence _both',color='purple',marker='s');"
   ]
  },
  {
   "cell_type": "code",
   "execution_count": null,
   "id": "94c042e9-dc5f-4ae3-9dcd-e382d555df65",
   "metadata": {},
   "outputs": [],
   "source": [
    "plt.figure(figsize=(10, 6))\n",
    "sns.lineplot(data=Obese_high_country, x='Year', y='Obesity_Prevalence _both', color='purple', marker='s')\n",
    "plt.xlabel('Year')\n",
    "plt.ylabel('Obesity Prevalence')\n",
    "plt.title('Obesity Prevalence Trend Over Years')\n",
    "plt.show()  ## Obesity Prevalence Trend Over Years"
   ]
  },
  {
   "cell_type": "markdown",
   "id": "32d0bdb5-0b1e-49dc-aa1d-8f236b0a138c",
   "metadata": {},
   "source": [
    "## which country had lowest Obesity rates in Overall ?"
   ]
  },
  {
   "cell_type": "code",
   "execution_count": null,
   "id": "dc357e2b-7cca-4c66-a6bb-3b105c62510b",
   "metadata": {},
   "outputs": [],
   "source": [
    "Country_low_obesity = obesity_gdp_protein_lex_pop[['Country','Year','Obesity_Prevalence _both']].value_counts().reset_index().sort_values('Obesity_Prevalence _both',ascending=False).tail(1).Country.to_list()\n",
    "Country_low_obesity "
   ]
  },
  {
   "cell_type": "code",
   "execution_count": null,
   "id": "7bda129e-b822-4ca7-8eb2-11181bdcf47e",
   "metadata": {},
   "outputs": [],
   "source": [
    "Obese_low_country = obesity_gdp_protein_lex_pop.loc[obesity_gdp_protein_lex_pop.Country.isin(Country_low_obesity)]\n",
    "Obese_low_country.plot(x='Year',y='Obesity_Prevalence _both',color='purple',marker='s');"
   ]
  },
  {
   "cell_type": "code",
   "execution_count": null,
   "id": "fd52979a-6d97-47e9-bc43-beda09c0190c",
   "metadata": {},
   "outputs": [],
   "source": [
    "plt.figure(figsize=(10, 6)) \n",
    "sns.lineplot(data=Obese_low_country, x='Year', y='Obesity_Prevalence _both', color='purple', marker='s')\n",
    "plt.xlabel('Year')\n",
    "plt.ylabel('Obesity Prevalence')\n",
    "plt.title('Obesity Prevalence Trend Over Years')\n",
    "plt.show()  ## Obesity Prevalence Trend Over Years"
   ]
  },
  {
   "cell_type": "markdown",
   "id": "5fbdcd19-0554-4562-93e8-470088f382c1",
   "metadata": {},
   "source": [
    "## Which coutries had a higher Obesity rates in 2016 than in 1990?"
   ]
  },
  {
   "cell_type": "markdown",
   "id": "dd586989-e643-46a0-96f3-d6dc9a39e009",
   "metadata": {},
   "source": [
    "## These Countries had higher Obesity rates in 2016 than 1990"
   ]
  },
  {
   "cell_type": "code",
   "execution_count": null,
   "id": "824e046a-9598-4a11-a994-04e7b8071982",
   "metadata": {},
   "outputs": [],
   "source": [
    "Obesity_df_1990  = obesity_gdp_protein_lex_pop.loc[obesity_gdp_protein_lex_pop.Year == 1990]\n",
    "Obesity_df_1990.sort_values(by = \"Obesity_Prevalence _both\" , ascending =False).head(5)"
   ]
  },
  {
   "cell_type": "code",
   "execution_count": null,
   "id": "92a59cb6-f774-4b3a-ac0f-ee42abadc43e",
   "metadata": {},
   "outputs": [],
   "source": [
    "Obesity_df_2016 = obesity_gdp_protein_lex_pop.loc[obesity_gdp_protein_lex_pop.Year == 2016]\n",
    "Obesity_df_2016.sort_values(by = \"Obesity_Prevalence _both\" , ascending =False).head(5)"
   ]
  },
  {
   "cell_type": "markdown",
   "id": "5fcc53cb-6221-40d2-bea6-d5bd03f89622",
   "metadata": {},
   "source": [
    "Obesity_1990_2015 = pd.merge(Obesity_df_1990, Obesity_df_2015,\n",
    "                            on= ['Country','Code'], how ='inner')\n",
    "Obesity_1990_2015"
   ]
  },
  {
   "cell_type": "markdown",
   "id": "258ccb2b-a3ab-4579-8217-8986ce5bd20a",
   "metadata": {},
   "source": [
    "Obesity_1990_2015 = Obesity_1990_2015.rename(columns={'Obesity_Prevalence _both_x': 'Obesity_prevalance_x','Obesity_Prevalence _both_y':'Obesity_prevalence_y' })"
   ]
  },
  {
   "cell_type": "markdown",
   "id": "c47f18e3-98db-4fcc-acdd-d50d1c9cc5ed",
   "metadata": {},
   "source": [
    "## What is the Mean Obesity across,Gdp Per capita,Daily protein intake, Life expectancy and calories supply and population for  all Countries? what is the median?"
   ]
  },
  {
   "cell_type": "code",
   "execution_count": null,
   "id": "1902542f-3b83-424e-80f9-924b009b0852",
   "metadata": {},
   "outputs": [],
   "source": [
    "obesity_gdp_protein_lex_pop.describe()   ## mean and Median for all years "
   ]
  },
  {
   "cell_type": "markdown",
   "id": "d45feabc-88b2-4bb5-a35b-671a8c13628b",
   "metadata": {},
   "source": [
    "## I am interesred in  1990 &  2016"
   ]
  },
  {
   "cell_type": "code",
   "execution_count": null,
   "id": "30877af5-3055-4565-b4f1-ce2eccba742c",
   "metadata": {},
   "outputs": [],
   "source": [
    "Obesity_df_1990.describe()  ## mean and median for 2016 only"
   ]
  },
  {
   "cell_type": "code",
   "execution_count": null,
   "id": "97e6084c-03ce-4364-b82d-64b672277190",
   "metadata": {},
   "outputs": [],
   "source": [
    "Obesity_df_2016.describe()  ## mean and median for 1990 only"
   ]
  },
  {
   "cell_type": "code",
   "execution_count": null,
   "id": "7180a8f8-0b7f-482b-a0bf-907b732fd092",
   "metadata": {},
   "outputs": [],
   "source": [
    "obesity_gdp_protein_lex_pop.nunique() "
   ]
  },
  {
   "cell_type": "markdown",
   "id": "b38b8c77-5e74-418b-aa34-aac93dbef1ce",
   "metadata": {},
   "source": [
    "## 125 Countries have data for all years "
   ]
  },
  {
   "cell_type": "code",
   "execution_count": null,
   "id": "22eff6b3-bc1b-4793-8faa-dc69b97d71e0",
   "metadata": {},
   "outputs": [],
   "source": [
    "Countries_df = obesity_gdp_protein_lex_pop.Country.value_counts().to_frame()\n",
    "len(Countries_df.loc[Countries_df['count'] == 27])"
   ]
  },
  {
   "cell_type": "markdown",
   "id": "03bccf1c-e657-4ce1-abbd-e704888155fb",
   "metadata": {},
   "source": [
    "## Comparing Obesity Prevalence, Gdp_ per_capita, Daily protein supply per person, Life_expectancy, Daily calorie supply per person, Population  for 1990,2000 and 2010"
   ]
  },
  {
   "cell_type": "code",
   "execution_count": null,
   "id": "46538323-fad0-41ab-bd10-daf360a2447f",
   "metadata": {},
   "outputs": [],
   "source": [
    "my_list = [1990,2000,2010]\n",
    "ob_decades =  obesity_gdp_protein_lex_pop.loc[obesity_gdp_protein_lex_pop.Year.isin(my_list)]\n",
    "ob_decades"
   ]
  },
  {
   "cell_type": "markdown",
   "id": "cc904fe7-0d40-494e-b3cc-b1a8bd2a0ccb",
   "metadata": {},
   "source": [
    " ## Comparing Obesity Prevalence for 1990,2000 and 2010"
   ]
  },
  {
   "cell_type": "code",
   "execution_count": null,
   "id": "223209b8-b79b-4b35-ae6e-6028c84b4342",
   "metadata": {},
   "outputs": [],
   "source": [
    "sns.boxplot(data= ob_decades, y = 'Obesity_Prevalence _both', x='Year',color=\"purple\")\n",
    "plt.xlabel('Year')\n",
    "plt.ylabel('Obesity Prevalence (%) '); "
   ]
  },
  {
   "cell_type": "markdown",
   "id": "19b2175a-96c1-4657-ab21-6e1fd2fb947e",
   "metadata": {},
   "source": [
    "## Comparing GDP Per capita for 1990,2000 and 2010"
   ]
  },
  {
   "cell_type": "code",
   "execution_count": null,
   "id": "208b1f82-7c95-4076-9dcf-cdaa906e3603",
   "metadata": {},
   "outputs": [],
   "source": [
    "sns.boxplot(data= ob_decades, y = 'Gdp_ per_capita', x='Year',color=\"purple\")\n",
    "plt.xlabel('Year')\n",
    "plt.ylabel('GDP Per Capita'); "
   ]
  },
  {
   "cell_type": "markdown",
   "id": "89df1cc9-c529-4e10-bb7b-be26df56f274",
   "metadata": {},
   "source": [
    "## Comparing Life Expectancy for 1990,2000 and 2010"
   ]
  },
  {
   "cell_type": "code",
   "execution_count": null,
   "id": "0329f105-d29e-4f34-b712-ec5800a1f87d",
   "metadata": {},
   "outputs": [],
   "source": [
    "sns.boxplot(data= ob_decades, y = 'Life_expectancy ', x='Year',color=\"purple\")\n",
    "plt.xlabel('Year')\n",
    "plt.ylabel('Life Expectancy '); "
   ]
  },
  {
   "cell_type": "markdown",
   "id": "ce482ef0-3b49-4f5a-b539-e60b42270105",
   "metadata": {},
   "source": [
    "## Comparing Daily protein supply per person for 1990,2000,2010"
   ]
  },
  {
   "cell_type": "code",
   "execution_count": null,
   "id": "5c10ff61-36d9-4a56-b672-58bd9cce3da8",
   "metadata": {},
   "outputs": [],
   "source": [
    "sns.boxplot(data= ob_decades, y = 'Daily protein supply per person', x='Year',color=\"purple\")\n",
    "plt.xlabel('Year')\n",
    "plt.ylabel('Daily protein supply per person');"
   ]
  },
  {
   "cell_type": "markdown",
   "id": "f411a4ba-a51d-4d90-b0c3-8c25be285b17",
   "metadata": {},
   "source": [
    "## Comparing Population For 1990,2000,2010 Years"
   ]
  },
  {
   "cell_type": "code",
   "execution_count": null,
   "id": "6e34a5dc-9181-4982-ad2f-691c67078ca7",
   "metadata": {},
   "outputs": [],
   "source": [
    "sns.barplot(data=ob_decades, y=\"Population\", x=\"Year\",ci=None,color=\"purple\")\n",
    "plt.ticklabel_format(style='plain', axis='y'); "
   ]
  },
  {
   "cell_type": "code",
   "execution_count": null,
   "id": "db22a85f-6c03-4bec-9f1d-32fe3eed698f",
   "metadata": {},
   "outputs": [],
   "source": []
  },
  {
   "cell_type": "markdown",
   "id": "36d474df-3609-4848-8cdd-4c439f46c8e6",
   "metadata": {},
   "source": [
    "## How does the distribution of Obesity Prevalence differ between 2000 and 2016"
   ]
  },
  {
   "cell_type": "code",
   "execution_count": null,
   "id": "4552b564-f1fd-4ecd-a7f7-cf35f130ec16",
   "metadata": {},
   "outputs": [],
   "source": [
    "my_list=[2000,2016]\n",
    "obesity_gdp_protein_lex_pop_2000_2016 = obesity_gdp_protein_lex_pop.loc[obesity_gdp_protein_lex_pop.Year.isin(my_list)]\n",
    "obesity_gdp_protein_lex_pop_2000_2016"
   ]
  },
  {
   "cell_type": "code",
   "execution_count": null,
   "id": "1cf21516-1d0c-4202-b3ce-3e4442bf41d7",
   "metadata": {},
   "outputs": [],
   "source": [
    "##plt.figure(figsize=(9, 8))\n",
    "sns.boxplot(data = obesity_gdp_protein_lex_pop_2000_2016, x= 'Year', y = 'Obesity_Prevalence _both',color=\"purple\");"
   ]
  },
  {
   "cell_type": "markdown",
   "id": "61d22708-688a-4f8d-b457-01d171ba0ea3",
   "metadata": {},
   "source": [
    "## In 1990, how many countries had obesity prevalence rates below 5%"
   ]
  },
  {
   "cell_type": "code",
   "execution_count": null,
   "id": "e8aa5b72-d352-4b52-930b-855ffe76767c",
   "metadata": {},
   "outputs": [],
   "source": [
    "len(obesity_gdp_protein_lex_pop.loc[(obesity_gdp_protein_lex_pop['Obesity_Prevalence _both'] < 5) & (obesity_gdp_protein_lex_pop.Year == 1990)])"
   ]
  },
  {
   "cell_type": "markdown",
   "id": "2fb4ce28-e771-4020-96e1-461ae257d623",
   "metadata": {},
   "source": [
    "## In 2016, how many countries had obesity prevalence rates below 5%"
   ]
  },
  {
   "cell_type": "code",
   "execution_count": null,
   "id": "00eb7197-7c5c-4b64-8542-dc2b3348d7f9",
   "metadata": {},
   "outputs": [],
   "source": [
    "len(obesity_gdp_protein_lex_pop.loc[(obesity_gdp_protein_lex_pop['Obesity_Prevalence _both'] < 5) & (obesity_gdp_protein_lex_pop.Year == 2016)])"
   ]
  },
  {
   "cell_type": "code",
   "execution_count": null,
   "id": "6e131126-c805-438f-b5f6-53e4f03c5cf9",
   "metadata": {},
   "outputs": [],
   "source": []
  },
  {
   "cell_type": "markdown",
   "id": "137787f0-1889-4728-8857-2594b2bd080f",
   "metadata": {},
   "source": [
    "## How many countries had obesity prevalence rates greater than 30% in 1990"
   ]
  },
  {
   "cell_type": "code",
   "execution_count": null,
   "id": "1af18dd0-e3da-48af-890e-6bb1b9a9fcde",
   "metadata": {},
   "outputs": [],
   "source": [
    "len(obesity_gdp_protein_lex_pop.loc[(obesity_gdp_protein_lex_pop['Obesity_Prevalence _both'] > 30)  & (obesity_gdp_protein_lex_pop['Year'] == 1990)])"
   ]
  },
  {
   "cell_type": "markdown",
   "id": "03714338-d9d7-4f7e-a788-7e756dc8fec3",
   "metadata": {},
   "source": [
    "## How many countries had obesity prevalence rates greater than 30% in 2016"
   ]
  },
  {
   "cell_type": "code",
   "execution_count": null,
   "id": "eeebb431-dfb1-4e82-8cb2-c26d74d03b2c",
   "metadata": {},
   "outputs": [],
   "source": [
    "len(obesity_gdp_protein_lex_pop.loc[(obesity_gdp_protein_lex_pop['Obesity_Prevalence _both'] > 30)  & (obesity_gdp_protein_lex_pop['Year'] ==2016)])"
   ]
  },
  {
   "cell_type": "code",
   "execution_count": null,
   "id": "3e1a351b-448f-43ae-b588-d1685d298adc",
   "metadata": {},
   "outputs": [],
   "source": []
  },
  {
   "cell_type": "markdown",
   "id": "38a94881-f7c9-4550-837a-a3f0bde6e8ea",
   "metadata": {},
   "source": [
    "## Which Five countries had the highest obesity rates in 2016"
   ]
  },
  {
   "cell_type": "code",
   "execution_count": null,
   "id": "c26ff037-33c3-4748-a79c-a376bfc1a91f",
   "metadata": {},
   "outputs": [],
   "source": [
    " "
   ]
  },
  {
   "cell_type": "code",
   "execution_count": null,
   "id": "404b8bc7-30c5-4413-afc9-52e5ea56d59b",
   "metadata": {},
   "outputs": [],
   "source": [
    "top_three_Ob_countries = obesity_gdp_protein_lex_pop_2000_2016.loc[obesity_gdp_protein_lex_pop_2000_2016.Year == 2016 ].sort_values('Obesity_Prevalence _both',ascending= False).head(5).Country.to_list()\n",
    "top_three_Ob_countries "
   ]
  },
  {
   "cell_type": "code",
   "execution_count": null,
   "id": "0a0795c2-fd58-4873-ba5c-2a7ca0ce58d6",
   "metadata": {},
   "outputs": [],
   "source": [
    "top_Three_obese_high_countries_2016 = obesity_gdp_protein_lex_pop.loc[obesity_gdp_protein_lex_pop.Country.isin(top_three_Ob_countries  )]\n"
   ]
  },
  {
   "cell_type": "code",
   "execution_count": null,
   "id": "6de85d0b-de0e-4478-8569-c420b698426a",
   "metadata": {},
   "outputs": [],
   "source": [
    "g = sns.FacetGrid(top_Three_obese_high_countries_2016, col=\"Country\", height=4 )\n",
    "g.map(sns.lineplot, \"Year\",\"Obesity_Prevalence _both\");"
   ]
  },
  {
   "cell_type": "code",
   "execution_count": null,
   "id": "7f14ec8c-4114-4307-a2a5-38f5fdcde955",
   "metadata": {},
   "outputs": [],
   "source": []
  },
  {
   "cell_type": "markdown",
   "id": "35ad3d81-4fb1-4ed9-a8c0-fc218924136a",
   "metadata": {},
   "source": [
    " ## Obesity Prevalence vs GDP Per Capita"
   ]
  },
  {
   "cell_type": "code",
   "execution_count": null,
   "id": "980863ca-879e-43e3-8281-66fc500b0da2",
   "metadata": {},
   "outputs": [],
   "source": [
    "Obesity_gdp_2016 =obesity_gdp_protein_lex_pop_2000_2016.loc[obesity_gdp_protein_lex_pop_2000_2016.Year== 2016]\n"
   ]
  },
  {
   "cell_type": "markdown",
   "id": "8bdbb922-dca6-4a20-900c-e3ed8a733b41",
   "metadata": {},
   "source": [
    "sns.scatterplot(data = Obesity_gdp_2015,y = 'Obesity_Prevalence _both', x='Gdp_ per_capita',color=\"purple\")\n",
    "plt.xlabel('GDP per Capita')\n",
    "plt.ylabel('Obesity Prevalence (%)')\n",
    "plt.title('Comparison of Obesity Prevalence and GDP per Capita in 2015');"
   ]
  },
  {
   "cell_type": "code",
   "execution_count": null,
   "id": "eabbd5ca-9162-4344-8f66-1b07501c5f4e",
   "metadata": {},
   "outputs": [],
   "source": [
    "fig, ax = plt.subplots(figsize=(10, 6))\n",
    "sns.regplot(\n",
    "    x=Obesity_gdp_2016[\"Gdp_ per_capita\"],\n",
    "    y=Obesity_gdp_2016[\"Obesity_Prevalence _both\"],color=\"purple\",\n",
    "    line_kws={\"color\": \"black\"},\n",
    "     ci=None,\n",
    "    ax=ax\n",
    ")\n",
    "plt.xlabel('GDP per Capita')\n",
    "plt.ylabel('Obesity Prevalence (%)')\n",
    "plt.title('Comparison of Obesity Prevalence and GDP per Capita in 2016')\n",
    "plt.show()"
   ]
  },
  {
   "cell_type": "code",
   "execution_count": null,
   "id": "877923c6-e5d9-488f-a57a-38a43cebdab9",
   "metadata": {},
   "outputs": [],
   "source": [
    "corr = Obesity_gdp_2016['Gdp_ per_capita'].corr(Obesity_gdp_2016['Obesity_Prevalence _both'])\n",
    "corr"
   ]
  },
  {
   "cell_type": "code",
   "execution_count": null,
   "id": "0b381ca0-a34a-40cc-a412-399f69d08995",
   "metadata": {},
   "outputs": [],
   "source": []
  },
  {
   "cell_type": "code",
   "execution_count": null,
   "id": "334f51fc-a2b5-42de-bd65-e3469d87590a",
   "metadata": {},
   "outputs": [],
   "source": [
    "obesity_gdp_protein_lex_pop"
   ]
  },
  {
   "cell_type": "code",
   "execution_count": null,
   "id": "3b34d9a6-0d07-42ab-919b-959393df6196",
   "metadata": {},
   "outputs": [],
   "source": [
    "obesity_gdp_protein_lex_pop.columns"
   ]
  },
  {
   "cell_type": "markdown",
   "id": "5bb1ba35-e42b-433a-acae-cbb60686a695",
   "metadata": {},
   "source": [
    "## Obesity Prevalence vs Daily protein supply per person\t"
   ]
  },
  {
   "cell_type": "code",
   "execution_count": null,
   "id": "6ae33626-ccbd-43e1-9b1f-2814d51c945e",
   "metadata": {},
   "outputs": [],
   "source": [
    "fig, ax = plt.subplots(figsize=(10, 6))\n",
    "sns.regplot(\n",
    "    x=Obesity_gdp_2016[\"Daily protein supply per person\"],\n",
    "    y=Obesity_gdp_2016[\"Obesity_Prevalence _both\"],\n",
    "    color=\"purple\",\n",
    "    line_kws={\"color\": \"black\"},\n",
    "    ci=None,\n",
    "    ax=ax\n",
    ")\n",
    "\n",
    "plt.xlabel('Daily Protein Supply per person')\n",
    "plt.ylabel('Obesity Prevalence (%)')\n",
    "plt.title('Comparison of Obesity Prevalence and Daily protein supply per person in 2016')\n",
    "plt.show()"
   ]
  },
  {
   "cell_type": "code",
   "execution_count": null,
   "id": "78d6e3b4-5109-4e2e-94b0-cfe2d5dc5ad3",
   "metadata": {},
   "outputs": [],
   "source": [
    "corr = Obesity_gdp_2016['Daily protein supply per person'].corr(Obesity_gdp_2016['Obesity_Prevalence _both'])\n",
    "corr"
   ]
  },
  {
   "cell_type": "markdown",
   "id": "e2dde618-5de7-4802-a791-a93192efadcf",
   "metadata": {},
   "source": [
    "## Obesity Prevalence vs Daily calorie supply per person"
   ]
  },
  {
   "cell_type": "code",
   "execution_count": null,
   "id": "b8a749c6-c3c6-477a-8776-fec59032d175",
   "metadata": {},
   "outputs": [],
   "source": [
    "fig, ax = plt.subplots(figsize=(10, 6))\n",
    "sns.regplot(\n",
    "    x=Obesity_gdp_2016[\"Daily calorie supply per person\"],\n",
    "    y=Obesity_gdp_2016[\"Obesity_Prevalence _both\"],\n",
    "    color=\"purple\",\n",
    "    line_kws={\"color\": \"black\"},\n",
    "    ci=None,\n",
    "    ax=ax\n",
    ")\n",
    "\n",
    "plt.xlabel('Daily calorie supply per person')\n",
    "plt.ylabel('Obesity Prevalence (%)')\n",
    "plt.title('Comparison of Obesity Prevalence and Daily calorie supply per person in 2016')\n",
    "plt.show()"
   ]
  },
  {
   "cell_type": "code",
   "execution_count": null,
   "id": "f16e778c-d814-48f9-a6b5-58e7fd455877",
   "metadata": {},
   "outputs": [],
   "source": [
    "corr = Obesity_gdp_2016['Daily calorie supply per person'].corr(Obesity_gdp_2016['Obesity_Prevalence _both'])\n",
    "corr"
   ]
  },
  {
   "cell_type": "code",
   "execution_count": null,
   "id": "7f804513-978f-4c66-ac2d-b98ab45b35f7",
   "metadata": {},
   "outputs": [],
   "source": []
  },
  {
   "cell_type": "markdown",
   "id": "3f3ead48-423a-4567-a24c-ea55e2960475",
   "metadata": {},
   "source": [
    "## Obesity Prevalence vs Life Expectancy "
   ]
  },
  {
   "cell_type": "code",
   "execution_count": null,
   "id": "0678c651-3a7a-4627-b371-6991e2ddb8a4",
   "metadata": {},
   "outputs": [],
   "source": [
    "fig, ax = plt.subplots(figsize=(10, 6))\n",
    "sns.regplot(\n",
    "    x=Obesity_gdp_2016[\"Life_expectancy \"],\n",
    "    y=Obesity_gdp_2016[\"Obesity_Prevalence _both\"],\n",
    "    color=\"purple\",\n",
    "    line_kws={\"color\": \"black\"},\n",
    "    ci=None,\n",
    "    ax=ax\n",
    ")\n",
    "\n",
    "plt.xlabel('Life Expectancy ')\n",
    "plt.ylabel('Obesity Prevalence (%)')\n",
    "plt.title('Comparison of Obesity Prevalence and Life_expectancy in 2016')\n",
    "plt.show()"
   ]
  },
  {
   "cell_type": "code",
   "execution_count": null,
   "id": "8a75b614-f0ac-40e1-84b1-652c67712dae",
   "metadata": {},
   "outputs": [],
   "source": [
    "corr = Obesity_gdp_2016['Life_expectancy '].corr(Obesity_gdp_2016['Obesity_Prevalence _both'])\n",
    "corr"
   ]
  },
  {
   "cell_type": "markdown",
   "id": "e9b87d4a-2f15-4626-b89b-1b385ad8e3b4",
   "metadata": {},
   "source": [
    "## Obesity Prevalance Vs Population "
   ]
  },
  {
   "cell_type": "code",
   "execution_count": null,
   "id": "66c37765-7b6d-47cb-a878-6f1ac0847818",
   "metadata": {},
   "outputs": [],
   "source": [
    "fig, ax = plt.subplots(figsize=(10, 6))\n",
    "sns.regplot(\n",
    "    x=Obesity_gdp_2016[\"Population\"],\n",
    "    y=Obesity_gdp_2016[\"Obesity_Prevalence _both\"],\n",
    "    color=\"purple\",\n",
    "    line_kws={\"color\": \"black\"},\n",
    "    ci=None,\n",
    "    ax=ax\n",
    ")\n",
    "\n",
    "plt.xlabel('Population')\n",
    "plt.ylabel('Obesity Prevalence (%)')\n",
    "plt.title('Comparison of Obesity Prevalence and P{opulation in 2016')\n",
    "plt.show()"
   ]
  },
  {
   "cell_type": "code",
   "execution_count": null,
   "id": "58551566-7c74-4fe7-88ad-21c7ebf72157",
   "metadata": {},
   "outputs": [],
   "source": [
    "corr = Obesity_gdp_2016['Population'].corr(Obesity_gdp_2016['Obesity_Prevalence _both'])\n",
    "corr"
   ]
  },
  {
   "cell_type": "code",
   "execution_count": null,
   "id": "a09b7da5-5a01-4454-aa75-3a7a36956b2a",
   "metadata": {},
   "outputs": [],
   "source": []
  },
  {
   "cell_type": "code",
   "execution_count": null,
   "id": "10e937f0-8479-413f-94a5-40f3df1f87a4",
   "metadata": {},
   "outputs": [],
   "source": [
    "columns = [\n",
    "    'Obesity_Prevalence _both', \n",
    "    'Gdp_ per_capita', \n",
    "    'Daily protein supply per person', \n",
    "    'Life_expectancy ', \n",
    "    'Daily calorie supply per person', \n",
    "    'Population'\n",
    "]\n",
    "correlation_matrix = Obesity_gdp_2016[columns].corr()\n",
    "correlation_matrix"
   ]
  },
  {
   "cell_type": "code",
   "execution_count": null,
   "id": "4c768e2c-25c9-4a60-a6ea-03939625c452",
   "metadata": {},
   "outputs": [],
   "source": []
  }
 ],
 "metadata": {
  "kernelspec": {
   "display_name": "Python 3 (ipykernel)",
   "language": "python",
   "name": "python3"
  },
  "language_info": {
   "codemirror_mode": {
    "name": "ipython",
    "version": 3
   },
   "file_extension": ".py",
   "mimetype": "text/x-python",
   "name": "python",
   "nbconvert_exporter": "python",
   "pygments_lexer": "ipython3",
   "version": "3.11.7"
  }
 },
 "nbformat": 4,
 "nbformat_minor": 5
}
